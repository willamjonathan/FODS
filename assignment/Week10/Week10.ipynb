{
  "nbformat": 4,
  "nbformat_minor": 0,
  "metadata": {
    "colab": {
      "provenance": []
    },
    "kernelspec": {
      "name": "python3",
      "display_name": "Python 3"
    },
    "language_info": {
      "name": "python"
    }
  },
  "cells": [
    {
      "cell_type": "code",
      "execution_count": 294,
      "metadata": {
        "id": "v6VL76-0NajV"
      },
      "outputs": [],
      "source": [
        "import pandas as pd\n",
        "from math import sqrt\n",
        "import numpy as np"
      ]
    },
    {
      "cell_type": "code",
      "source": [
        "mdf = pd.read_csv('movies.csv')\n",
        "rdf = pd.read_csv('ratings.csv')\n",
        "mdf.info()\n",
        "rdf.info()"
      ],
      "metadata": {
        "colab": {
          "base_uri": "https://localhost:8080/"
        },
        "id": "4JL_OJqHNmWk",
        "outputId": "9b145c1c-b127-4a9f-dd74-e8e986cdfa9c"
      },
      "execution_count": 295,
      "outputs": [
        {
          "output_type": "stream",
          "name": "stdout",
          "text": [
            "<class 'pandas.core.frame.DataFrame'>\n",
            "RangeIndex: 9742 entries, 0 to 9741\n",
            "Data columns (total 3 columns):\n",
            " #   Column   Non-Null Count  Dtype \n",
            "---  ------   --------------  ----- \n",
            " 0   movieId  9742 non-null   int64 \n",
            " 1   title    9742 non-null   object\n",
            " 2   genres   9742 non-null   object\n",
            "dtypes: int64(1), object(2)\n",
            "memory usage: 228.5+ KB\n",
            "<class 'pandas.core.frame.DataFrame'>\n",
            "RangeIndex: 100836 entries, 0 to 100835\n",
            "Data columns (total 4 columns):\n",
            " #   Column     Non-Null Count   Dtype  \n",
            "---  ------     --------------   -----  \n",
            " 0   userId     100836 non-null  int64  \n",
            " 1   movieId    100836 non-null  int64  \n",
            " 2   rating     100836 non-null  float64\n",
            " 3   timestamp  100836 non-null  int64  \n",
            "dtypes: float64(1), int64(3)\n",
            "memory usage: 3.1 MB\n"
          ]
        }
      ]
    },
    {
      "cell_type": "code",
      "source": [
        "userInput = [{'title':'Breakfast Club, The (1985)', 'rating':1},\n",
        "             {'title':'Seven (a.k.a. Se7en) (1995)', 'rating':3},\n",
        "             {'title':'Grumpier Old Men (1995)', 'rating':4},\n",
        "             {'title':'Pulp Fiction (1994)', 'rating':0},\n",
        "             {'title':'Dumb & Dumber (Dumb and Dumber) (1994)', 'rating':2}]\n",
        "inputMovies = pd.DataFrame(userInput)\n",
        "print(inputMovies)\n"
      ],
      "metadata": {
        "colab": {
          "base_uri": "https://localhost:8080/"
        },
        "id": "eEvGkN2HPH5Q",
        "outputId": "adb467df-4425-43ea-c3c0-d6c07629bf0e"
      },
      "execution_count": 296,
      "outputs": [
        {
          "output_type": "stream",
          "name": "stdout",
          "text": [
            "                                    title  rating\n",
            "0              Breakfast Club, The (1985)       1\n",
            "1             Seven (a.k.a. Se7en) (1995)       3\n",
            "2                 Grumpier Old Men (1995)       4\n",
            "3                     Pulp Fiction (1994)       0\n",
            "4  Dumb & Dumber (Dumb and Dumber) (1994)       2\n"
          ]
        }
      ]
    },
    {
      "cell_type": "code",
      "source": [
        "inputId = mdf[mdf['title'].isin(inputMovies['title'].tolist())]\n",
        "inputMovies = pd.merge(inputId, inputMovies)\n",
        "inputMovies = inputMovies.drop('genres', 1) #we don't really need this at the moment\n",
        "inputMovies = inputMovies[['movieId','title','rating']]\n",
        "print(inputMovies)"
      ],
      "metadata": {
        "colab": {
          "base_uri": "https://localhost:8080/"
        },
        "id": "jfBBFJ6bPMoE",
        "outputId": "bbd04682-04d2-4fcd-8f80-698b541e4e13"
      },
      "execution_count": 297,
      "outputs": [
        {
          "output_type": "stream",
          "name": "stdout",
          "text": [
            "   movieId                                   title  rating\n",
            "0        3                 Grumpier Old Men (1995)       4\n",
            "1       47             Seven (a.k.a. Se7en) (1995)       3\n",
            "2      231  Dumb & Dumber (Dumb and Dumber) (1994)       2\n",
            "3      296                     Pulp Fiction (1994)       0\n",
            "4     1968              Breakfast Club, The (1985)       1\n"
          ]
        },
        {
          "output_type": "stream",
          "name": "stderr",
          "text": [
            "<ipython-input-297-ab865ed8630a>:3: FutureWarning: In a future version of pandas all arguments of DataFrame.drop except for the argument 'labels' will be keyword-only\n",
            "  inputMovies = inputMovies.drop('genres', 1) #we don't really need this at the moment\n"
          ]
        }
      ]
    },
    {
      "cell_type": "code",
      "source": [
        "userSubset = rdf[rdf['movieId'].isin(inputMovies['movieId'].tolist())]\n",
        "print(userSubset.groupby('movieId').count())"
      ],
      "metadata": {
        "colab": {
          "base_uri": "https://localhost:8080/"
        },
        "id": "SCNSSr5JPtnh",
        "outputId": "297157a2-c383-405c-8ad4-16a07eba9d98"
      },
      "execution_count": 298,
      "outputs": [
        {
          "output_type": "stream",
          "name": "stdout",
          "text": [
            "         userId  rating  timestamp\n",
            "movieId                           \n",
            "3            52      52         52\n",
            "47          203     203        203\n",
            "231         133     133        133\n",
            "296         307     307        307\n",
            "1968        113     113        113\n"
          ]
        }
      ]
    },
    {
      "cell_type": "code",
      "source": [
        "\n",
        "#Groupby creates several sub dataframes where they all have the same value in the column specified as the parameter\n",
        "userSubsetGroup = userSubset.groupby(['userId'])\n",
        "\n",
        "def take_5_elem(x):\n",
        "    # print (len(x[1]))\n",
        "    return len(x[1])\n",
        "    \n",
        "\n",
        "#Sorting it so users with movie most in common with the input will have priority\n",
        "userSubsetGroup = sorted(userSubsetGroup, key=take_5_elem, reverse=True)\n",
        "\n",
        "userSubsetGroup = userSubsetGroup[0:100]\n",
        "print(userSubsetGroup[0:5])\n"
      ],
      "metadata": {
        "colab": {
          "base_uri": "https://localhost:8080/"
        },
        "id": "JAIBkLiCRbga",
        "outputId": "13f816df-c476-46e3-cc58-06bcc42314a5"
      },
      "execution_count": 299,
      "outputs": [
        {
          "output_type": "stream",
          "name": "stdout",
          "text": [
            "[(42,       userId  movieId  rating  timestamp\n",
            "5875      42        3     4.0  996221045\n",
            "5883      42       47     4.0  996218105\n",
            "5907      42      231     4.0  996220872\n",
            "5917      42      296     5.0  996214107\n",
            "6087      42     1968     4.0  996258201), (64,       userId  movieId  rating   timestamp\n",
            "9429      64        3     3.5  1161519668\n",
            "9440      64       47     4.5  1161520185\n",
            "9459      64      231     4.5  1161520600\n",
            "9466      64      296     4.5  1161520143\n",
            "9622      64     1968     3.5  1161520955), (68,        userId  movieId  rating   timestamp\n",
            "10362      68        3     2.0  1158533415\n",
            "10378      68       47     4.0  1158531489\n",
            "10407      68      231     3.5  1158532011\n",
            "10419      68      296     2.0  1180916156\n",
            "10679      68     1968     3.0  1158531622), (91,        userId  movieId  rating   timestamp\n",
            "14123      91        3     3.0  1112712323\n",
            "14136      91       47     4.5  1112712832\n",
            "14162      91      231     3.0  1112713266\n",
            "14173      91      296     4.5  1112711264\n",
            "14383      91     1968     3.0  1112713409), (226,        userId  movieId  rating   timestamp\n",
            "33046     226        3     3.5  1095662861\n",
            "33054     226       47     5.0  1160003508\n",
            "33077     226      231     5.0  1095662679\n",
            "33083     226      296     4.5  1159219398\n",
            "33217     226     1968     4.0  1095662808)]\n"
          ]
        }
      ]
    },
    {
      "cell_type": "code",
      "source": [
        "#Store the Pearson Correlation in a dictionary, where the key is the user Id and the value is the coefficient\n",
        "pearsonCorrelationDict = {}\n",
        "\n",
        "#For every user group in our subset\n",
        "for name, group in userSubsetGroup:\n",
        "\n",
        "    #Let's start by sorting the input and current user group so the values aren't mixed up later on\n",
        "    group = group.sort_values(by='movieId')\n",
        "    inputMovies = inputMovies.sort_values(by='movieId')\n",
        "\n",
        "    #Get the N for the formula\n",
        "    nRatings = len(group)\n",
        "\n",
        "    #Get the review scores for the movies that they both have in common\n",
        "    temp_df = inputMovies[inputMovies['movieId'].isin(group['movieId'].tolist())]\n",
        "\n",
        "    #And then store them in a temporary buffer variable in a list format to facilitate future calculations\n",
        "    tempRatingList = temp_df['rating'].tolist()\n",
        "   \n",
        "    #Let's also put the current user group reviews in a list format\n",
        "    tempGroupList = group['rating'].tolist()\n",
        "   \n",
        "    \n",
        "    #Now let's calculate the pearson correlation between two users, so called, x and y manually (check the formula from week 7 slide)\n",
        "    Sxx = sum([i**2 for i in tempRatingList]) - pow(sum(tempRatingList),2)/float(nRatings)\n",
        "    Syy = sum([i**2 for i in tempGroupList]) - pow(sum(tempGroupList),2)/float(nRatings)\n",
        "    Sxy = sum( i*j for i, j in zip(tempRatingList, tempGroupList)) - sum(tempRatingList)*sum(tempGroupList)/float(nRatings)\n",
        "\n",
        "    #If the denominator is different than zero, then divide, else, 0 correlation.\n",
        "    if Sxx != 0 and Syy != 0:\n",
        "        pearsonCorrelationDict[name] = Sxy/sqrt(Sxx*Syy)\n",
        "    else:\n",
        "        pearsonCorrelationDict[name] = 0\n",
        "    \n"
      ],
      "metadata": {
        "id": "BqTJ7BAZO36d"
      },
      "execution_count": 300,
      "outputs": []
    },
    {
      "cell_type": "code",
      "source": [
        "pearsonDF = pd.DataFrame.from_dict(pearsonCorrelationDict, orient='index')\n",
        "pearsonDF.columns = ['similarityIndex']\n",
        "pearsonDF['userId'] = pearsonDF.index\n",
        "pearsonDF.index = range(len(pearsonDF))\n",
        "print(pearsonDF.head())\n"
      ],
      "metadata": {
        "colab": {
          "base_uri": "https://localhost:8080/"
        },
        "id": "lIkn42xDRkWg",
        "outputId": "7c80b198-9f4b-4ee4-a4f4-b3a287bc3298"
      },
      "execution_count": 301,
      "outputs": [
        {
          "output_type": "stream",
          "name": "stdout",
          "text": [
            "   similarityIndex  userId\n",
            "0        -0.707107      42\n",
            "1        -0.288675      64\n",
            "2         0.176777      68\n",
            "3        -0.288675      91\n",
            "4        -0.242536     226\n"
          ]
        }
      ]
    },
    {
      "cell_type": "code",
      "source": [
        "topUsers=pearsonDF.sort_values(by='similarityIndex', ascending=False)[0:50]\n",
        "print(topUsers.head())"
      ],
      "metadata": {
        "colab": {
          "base_uri": "https://localhost:8080/"
        },
        "id": "Dy1LiFhHRni-",
        "outputId": "b9064203-c393-44e7-830d-91d3b8ec1a59"
      },
      "execution_count": 302,
      "outputs": [
        {
          "output_type": "stream",
          "name": "stdout",
          "text": [
            "    similarityIndex  userId\n",
            "15         0.982708       6\n",
            "66         0.981981     176\n",
            "51         0.944911      56\n",
            "16         0.894427      19\n",
            "61         0.891042     136\n"
          ]
        }
      ]
    },
    {
      "cell_type": "code",
      "source": [
        "topUsersRating=topUsers.merge(rdf, left_on='userId', right_on='userId', how='inner')\n",
        "print(topUsersRating.head(100))\n"
      ],
      "metadata": {
        "colab": {
          "base_uri": "https://localhost:8080/"
        },
        "id": "oA9zf226Rq-R",
        "outputId": "860dc30f-c03a-419c-e6c7-faa81f017568"
      },
      "execution_count": 303,
      "outputs": [
        {
          "output_type": "stream",
          "name": "stdout",
          "text": [
            "    similarityIndex  userId  movieId  rating  timestamp\n",
            "0          0.982708       6        2     4.0  845553522\n",
            "1          0.982708       6        3     5.0  845554296\n",
            "2          0.982708       6        4     3.0  845554349\n",
            "3          0.982708       6        5     5.0  845553938\n",
            "4          0.982708       6        6     4.0  845553757\n",
            "..              ...     ...      ...     ...        ...\n",
            "95         0.982708       6      225     4.0  845553381\n",
            "96         0.982708       6      230     5.0  845553966\n",
            "97         0.982708       6      231     3.0  845553174\n",
            "98         0.982708       6      234     2.0  845554176\n",
            "99         0.982708       6      236     4.0  845553559\n",
            "\n",
            "[100 rows x 5 columns]\n"
          ]
        }
      ]
    },
    {
      "cell_type": "code",
      "source": [
        "#Multiplies the similarity by the user’s ratings\n",
        "topUsersRating['weightedRating'] = topUsersRating['similarityIndex']*topUsersRating['rating']\n",
        "print(topUsersRating.head())\n"
      ],
      "metadata": {
        "colab": {
          "base_uri": "https://localhost:8080/"
        },
        "id": "uHinnxV_Rya9",
        "outputId": "1a3253da-0a03-41ef-f5a9-c4b6e8e91d5a"
      },
      "execution_count": 304,
      "outputs": [
        {
          "output_type": "stream",
          "name": "stdout",
          "text": [
            "   similarityIndex  userId  movieId  rating  timestamp  weightedRating\n",
            "0         0.982708       6        2     4.0  845553522        3.930831\n",
            "1         0.982708       6        3     5.0  845554296        4.913538\n",
            "2         0.982708       6        4     3.0  845554349        2.948123\n",
            "3         0.982708       6        5     5.0  845553938        4.913538\n",
            "4         0.982708       6        6     4.0  845553757        3.930831\n"
          ]
        }
      ]
    },
    {
      "cell_type": "code",
      "source": [
        "#Applies a sum to the topUsers after grouping it up by movieId\n",
        "tempTopUsersRating = topUsersRating.groupby('movieId').sum()[['similarityIndex','weightedRating']]\n",
        "tempTopUsersRating.columns = ['sum_similarityIndex','sum_weightedRating']\n",
        "print(tempTopUsersRating.head())"
      ],
      "metadata": {
        "colab": {
          "base_uri": "https://localhost:8080/"
        },
        "id": "kKv1M9e0R3Cu",
        "outputId": "b90bce1e-fda2-4d27-ff31-7a8dc9b648b3"
      },
      "execution_count": 305,
      "outputs": [
        {
          "output_type": "stream",
          "name": "stdout",
          "text": [
            "         sum_similarityIndex  sum_weightedRating\n",
            "movieId                                         \n",
            "1                   2.659447           10.673640\n",
            "2                   2.154032            8.578056\n",
            "3                   4.279714           18.839433\n",
            "4                   1.738637            5.215910\n",
            "5                   1.487588            8.456657\n"
          ]
        }
      ]
    },
    {
      "cell_type": "code",
      "source": [
        "#Creates an empty dataframe\n",
        "recommendation_df = pd.DataFrame()\n",
        "\n",
        "#Now we take the weighted average\n",
        "recommendation_df['weighted average recommendation score'] = tempTopUsersRating['sum_weightedRating']/tempTopUsersRating['sum_similarityIndex']\n",
        "\n",
        "\n",
        "\n",
        "recommendation_df['movieId'] = tempTopUsersRating.index\n",
        "print(recommendation_df.head(10))\n"
      ],
      "metadata": {
        "colab": {
          "base_uri": "https://localhost:8080/"
        },
        "id": "i8a9GIvnR8ot",
        "outputId": "384e4bf6-5160-422a-a84c-9bb865302c52"
      },
      "execution_count": 306,
      "outputs": [
        {
          "output_type": "stream",
          "name": "stdout",
          "text": [
            "         weighted average recommendation score  movieId\n",
            "movieId                                                \n",
            "1                                     4.013480        1\n",
            "2                                     3.982325        2\n",
            "3                                     4.402031        3\n",
            "4                                     3.000000        4\n",
            "5                                     5.684813        5\n",
            "6                                     2.778376        6\n",
            "7                                     3.496185        7\n",
            "8                                     3.937101        8\n",
            "9                                     3.000000        9\n",
            "10                                    3.755094       10\n"
          ]
        }
      ]
    },
    {
      "cell_type": "code",
      "source": [
        "recommendation_df = recommendation_df.sort_values(by='weighted average recommendation score', ascending=False)\n",
        "print(recommendation_df.head(10))\n",
        "\n"
      ],
      "metadata": {
        "colab": {
          "base_uri": "https://localhost:8080/"
        },
        "id": "TtyRqq3ASDFP",
        "outputId": "9f286902-1c38-4f45-b7b6-d3fbfc1a2270"
      },
      "execution_count": 308,
      "outputs": [
        {
          "output_type": "stream",
          "name": "stdout",
          "text": [
            "         weighted average recommendation score  movieId\n",
            "movieId                                                \n",
            "4158                                       inf     4158\n",
            "1488                                       inf     1488\n",
            "1188                              1.838204e+15     1188\n",
            "2360                              1.134800e+15     2360\n",
            "2594                              1.080762e+14     2594\n",
            "4995                              5.679664e+02     4995\n",
            "41569                             1.385820e+02    41569\n",
            "3717                              7.472112e+01     3717\n",
            "3452                              4.894994e+01     3452\n",
            "72167                             4.744994e+01    72167\n"
          ]
        }
      ]
    },
    {
      "cell_type": "code",
      "source": [
        "recommended_movie=mdf.loc[mdf['movieId'].isin(recommendation_df['movieId'])]\n",
        "\n",
        "#we don't want to recommend the same movie\n",
        "recommended_movie=recommended_movie.loc[~recommended_movie.movieId.isin(userSubset['movieId'])]\n",
        "\n",
        "print(recommended_movie.loc[1000:1006,:])"
      ],
      "metadata": {
        "colab": {
          "base_uri": "https://localhost:8080/"
        },
        "id": "XwUZWhIxSHi5",
        "outputId": "dcff1423-2943-4670-9c6c-4acd43473fcf"
      },
      "execution_count": 317,
      "outputs": [
        {
          "output_type": "stream",
          "name": "stdout",
          "text": [
            "      movieId                                              title  \\\n",
            "1000     1302                             Field of Dreams (1989)   \n",
            "1002     1304          Butch Cassidy and the Sundance Kid (1969)   \n",
            "1004     1306  Until the End of the World (Bis ans Ende der W...   \n",
            "1005     1307                     When Harry Met Sally... (1989)   \n",
            "\n",
            "                      genres  \n",
            "1000  Children|Drama|Fantasy  \n",
            "1002          Action|Western  \n",
            "1004  Adventure|Drama|Sci-Fi  \n",
            "1005          Comedy|Romance  \n"
          ]
        }
      ]
    },
    {
      "cell_type": "code",
      "source": [],
      "metadata": {
        "id": "Ce6S_wCmaQKA"
      },
      "execution_count": 188,
      "outputs": []
    }
  ]
}
