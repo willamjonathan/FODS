from bs4 import BeautifulSoup
import requests
import re
import pandas as pd

headers = {'Accept-Language': 'en-US,en;q=0.8'}
url = 'https://www.imdb.com/title/tt1837492/episodes?ref_=tt_eps_sm'
response = requests.get(url,headers=headers)
soup = BeautifulSoup(response.text, "html")

#TESTING----------------------------------------------------------------------------------------------
movie = soup.select('div.info strong')
print(movie[0])

#getting the title
title = [t.get_text() for t in soup.select('div.info strong')]
print(title[0])

#getting the links
links = soup.select('div.info strong a')
print(links[0])

#links = [a.attrs.get('href') for a in soup.select()]

links=[]
for a in soup.select('div.info strong a'):
  links.append(a.attrs.get('href'))

print(links[0])

#getting the rating
ratings = soup.select('span.ipl-rating-star__rating')
print(ratings[0].get_text())
print(ratings[2].get_text()) #error; different result

votes = soup.select('span.ipl-rating-star__total-votes')
print(votes[0].get_text())

#getting description
desc = soup.select('div.item_description')
print(desc[0].get_text())

# #TRIAL
# #getting image
# images=soup.find('img')
#  #image link
# img=[]
# for a in soup.select('div.image'):
#    img.append(a.attrs.get('src'))
# print(img[0])


#TESTING----------------------------------------------------------------------------------------------

list = []
 
# Iterating over movies to extract
# each movie's details
for i in range(len(soup.select('div.info strong'))):
    a = i+1
    episodes = a
    movie_title=soup.select('div.info strong a')[i].string
    year=soup.select('div.airdate')[i].string
    year=year.replace('(',"").replace(')',"")
    rating=soup.select('span.ipl-rating-star__rating')[i].get_text()
    votes = soup.select('span.ipl-rating-star__total-votes')[i].get_text()
    desc = soup.select('div.item_description')[i].get_text()
    link=soup.select('div.info strong a')[i].attrs.get('href')
    # getting src progress
    #img=soup.select('div.images')[a].attrs.get('src')
    #add the domain name
    link="https://www.imdb.com" + link

    data = {"episode" : episodes,
            "movie_title": movie_title,
            "airdate": year,
            "rating": rating,
            "link": link,
            "votes": votes
            ,"description": desc
            #,"images":img
            }
    list.append(data)

#saving as CSV
df = pd.DataFrame(list, columns = ['episode', 'movie_title', 'airdate', 'rating', 'link', 'votes','description'])
print(list[0])
print (df.head())

df.to_csv('assignment.csv', index=False)

  
