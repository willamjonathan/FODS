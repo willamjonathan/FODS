{
  "nbformat": 4,
  "nbformat_minor": 0,
  "metadata": {
    "colab": {
      "provenance": [],
      "collapsed_sections": []
    },
    "kernelspec": {
      "name": "python3",
      "display_name": "Python 3"
    },
    "language_info": {
      "name": "python"
    }
  },
  "cells": [
    {
      "cell_type": "markdown",
      "source": [
        "ASSIGNMENT 2 - WILLIAM JONATHAN M\n",
        "L3AC\n",
        "2502045683"
      ],
      "metadata": {
        "id": "jLrzlB6kIxSi"
      }
    },
    {
      "cell_type": "code",
      "source": [],
      "metadata": {
        "id": "7-N_8hPh7A_a"
      },
      "execution_count": null,
      "outputs": []
    },
    {
      "cell_type": "code",
      "source": [
        "import pandas as pd\n",
        "import matplotlib.pyplot as plt\n",
        "from sklearn import svm,datasets\n",
        "from sklearn.svm import  SVC\n",
        "import numpy as np\n",
        "from sklearn.metrics import accuracy_score\n",
        "\n",
        "df = pd.read_csv('aftercleaning.csv')\n",
        "df.info()\n",
        "\n",
        "#143745 - mean\n",
        "df['label']=np.where(df['Reported number of people receiving ART']>143744,'good','bad')\n",
        "df\n",
        "\n",
        "#cutting the data only up to 100\n",
        "X=df.iloc[0:76,[1,7]]\n",
        "y=df.loc[0:75,'label']\n",
        "\n",
        "#if c is inreased more accurate; c=1 accuracy 1\n",
        "clf = svm.SVC(kernel='rbf', gamma=0.08, C=1)\n",
        "\n",
        "#train the model\n",
        "clf.fit(X, y)\n",
        "\n",
        "#just use the same data to predict for now\n",
        "y_pred=clf.predict(X)\n",
        "\n",
        "\n",
        "print(accuracy_score(y, y_pred))\n",
        "\n",
        "#PLOTTING\n",
        "\n",
        "\n",
        "plt.scatter(df['Estimated number of people living with HIV_median'][df['label']=='good'],\n",
        "            df['Reported number of people receiving ART'][df['label']=='good'],color='green', marker='*',label =\"Good\")\n",
        "plt.scatter(df['Estimated number of people living with HIV_median'][df['label']=='bad'],\n",
        "            df['Reported number of people receiving ART'][df['label']=='bad'],color='red', marker='.',label =\"Bad\")\n",
        "\n",
        "plt.xlabel('Estimated number of people living with HIV_median')\n",
        "plt.ylabel('Reported number of people receiving ART')\n",
        "#location legend\n",
        "plt.legend(loc='best')\n",
        "plt.show()\n",
        "\n",
        "\n",
        "##########################################################################\n",
        "# #PART 2 - for this part i failed in running the code, eventho i've tried so many attempts \n",
        "\n",
        "# # # model_linear_kernal = SVC(kernel='linear')\n",
        "# # # model_linear_kernal.fit(x_train, y_train)\n",
        "\n",
        "# # def plot_contours(ax, clf, xx, yy, **params):\n",
        "# #     Z = clf.predict(np.c_[xx.ravel(), yy.ravel()])\n",
        "# #     Z = Z.reshape(xx.shape)\n",
        "# #     out = ax.contourf(xx, yy, Z, **params)\n",
        "# #     return out\n",
        "\n",
        "# # def make_meshgrid(x, y, h=.02):\n",
        "# #     x_min, x_max = x.min() - 1, x.max() + 1\n",
        "# #     y_min, y_max = y.min() - 1, y.max() + 1\n",
        "# #     xx, yy = np.meshgrid(np.arange(x_min, x_max, h), np.arange(y_min, y_max, h))\n",
        "# #     return xx, yy\n",
        "\n",
        "\n",
        "# # fig, ax = plt.subplots()\n",
        "# # # title for the plots\n",
        "# # title = ('SVC HIV ')\n",
        "# # # Set-up grid for plotting.\n",
        "# # X0, X1 = X.iloc[:, 0], X.iloc[:, 1]\n",
        "# # xx, yy = make_meshgrid(X0, X1)\n",
        "\n",
        "# # plot_contours(ax, svm, xx, yy, cmap=plt.cm.YlGn, alpha=0.8)\n",
        "# # ax.scatter(X0, X1, c=y, cmap=plt.cm.coolwarm, s=20, edgecolors='k')\n",
        "# # ax.set_xlabel('Estimated number of people living with HIV_median')\n",
        "# # ax.set_ylabel('Reported number of people receiving ART')\n",
        "# # ax.set_xticks(())\n",
        "# # ax.set_yticks(())\n",
        "# # ax.set_title(title)\n",
        "# # plt.show()\n",
        "# def make_meshgrid(x, y, h=.02):\n",
        "#     x_min, x_max = x.min() - 1, x.max() + 1\n",
        "#     y_min, y_max = y.min() - 1, y.max() + 1\n",
        "#     xx, yy = np.meshgrid(np.arange(x_min, x_max, h), np.arange(y_min, y_max, h))\n",
        "#     return xx, yy\n",
        "\n",
        "\n",
        "# def plot_contours(ax, clf, xx, yy, **params):\n",
        "#     Z = clf.predict(np.c_[xx.ravel(), yy.ravel()])\n",
        "#     Z = Z.reshape(xx.shape)\n",
        "#     out = ax.contourf(xx, yy, Z, **params)\n",
        "#     return out\n",
        "\n",
        "\n",
        "# fig, ax = plt.subplots()\n",
        "# # title for the plots\n",
        "# title = 'HIV median and ART classification'\n",
        "# # Set-up grid for plotting.\n",
        "# #X0, X1 = X.iloc[:, df['Estimated number of people living with HIV_median']], X.iloc[:, df['Reported number of people receiving ART']]\n",
        "# # X0=df['Reported number of people receiving ART']\n",
        "# # X1=df['Country']\n",
        "# xx, yy = make_meshgrid(X0, X1)\n",
        "\n",
        "# plot_contours(ax, svm, xx, yy, cmap=plt.cm.YlGn, alpha=0.8)\n",
        "# ax.scatter(X0, X1, c=y, cmap=plt.cm.coolwarm, s=50, alpha=0.7 )\n",
        "# ax.set_xlabel('Estimated number of people living with HIV_median')\n",
        "# ax.set_ylabel('Reported number of people receiving ART')\n",
        "# ax.set_xticks(())\n",
        "# ax.set_yticks(())\n",
        "# ax.set_title(title)\n",
        "# plt.show()"
      ],
      "metadata": {
        "colab": {
          "base_uri": "https://localhost:8080/",
          "height": 1000
        },
        "id": "HZ7VtocqI2g-",
        "outputId": "a36f62fe-bf32-4cda-b7a5-513771983e3d"
      },
      "execution_count": null,
      "outputs": [
        {
          "output_type": "stream",
          "name": "stdout",
          "text": [
            "<class 'pandas.core.frame.DataFrame'>\n",
            "RangeIndex: 138 entries, 0 to 137\n",
            "Data columns (total 11 columns):\n",
            " #   Column                                                          Non-Null Count  Dtype  \n",
            "---  ------                                                          --------------  -----  \n",
            " 0   Country                                                         138 non-null    object \n",
            " 1   Reported number of people receiving ART                         138 non-null    int64  \n",
            " 2   Estimated number of people living with HIV                      136 non-null    object \n",
            " 3   Estimated ART coverage among people living with HIV (%)         136 non-null    object \n",
            " 4   Estimated number of people living with HIV_median               138 non-null    float64\n",
            " 5   Estimated number of people living with HIV_min                  138 non-null    float64\n",
            " 6   Estimated number of people living with HIV_max                  138 non-null    float64\n",
            " 7   Estimated ART coverage among people living with HIV (%)_median  136 non-null    float64\n",
            " 8   Estimated ART coverage among people living with HIV (%)_min     136 non-null    float64\n",
            " 9   Estimated ART coverage among people living with HIV (%)_max     136 non-null    float64\n",
            " 10  WHO Region                                                      136 non-null    object \n",
            "dtypes: float64(6), int64(1), object(4)\n",
            "memory usage: 12.0+ KB\n",
            "1.0\n"
          ]
        },
        {
          "output_type": "display_data",
          "data": {
            "text/plain": [
              "<Figure size 432x288 with 1 Axes>"
            ],
            "image/png": "[encoded data removed]"
          },
          "metadata": {
            "needs_background": "light"
          }
        },
        {
          "output_type": "error",
          "ename": "TypeError",
          "evalue": "ignored",
          "traceback": [
            "\u001b[0;31m---------------------------------------------------------------------------\u001b[0m",
            "\u001b[0;31mTypeError\u001b[0m                                 Traceback (most recent call last)",
            "\u001b[0;32m<ipython-input-2-86bfb8b21d97>\u001b[0m in \u001b[0;36m<module>\u001b[0;34m\u001b[0m\n\u001b[1;32m     99\u001b[0m \u001b[0;31m# X0=df['Reported number of people receiving ART']\u001b[0m\u001b[0;34m\u001b[0m\u001b[0;34m\u001b[0m\u001b[0;34m\u001b[0m\u001b[0m\n\u001b[1;32m    100\u001b[0m \u001b[0;31m# X1=df['Country']\u001b[0m\u001b[0;34m\u001b[0m\u001b[0;34m\u001b[0m\u001b[0;34m\u001b[0m\u001b[0m\n\u001b[0;32m--> 101\u001b[0;31m \u001b[0mxx\u001b[0m\u001b[0;34m,\u001b[0m \u001b[0myy\u001b[0m \u001b[0;34m=\u001b[0m \u001b[0mmake_meshgrid\u001b[0m\u001b[0;34m(\u001b[0m\u001b[0mX0\u001b[0m\u001b[0;34m,\u001b[0m \u001b[0mX1\u001b[0m\u001b[0;34m)\u001b[0m\u001b[0;34m\u001b[0m\u001b[0;34m\u001b[0m\u001b[0m\n\u001b[0m\u001b[1;32m    102\u001b[0m \u001b[0;34m\u001b[0m\u001b[0m\n\u001b[1;32m    103\u001b[0m \u001b[0mplot_contours\u001b[0m\u001b[0;34m(\u001b[0m\u001b[0max\u001b[0m\u001b[0;34m,\u001b[0m \u001b[0msvm\u001b[0m\u001b[0;34m,\u001b[0m \u001b[0mxx\u001b[0m\u001b[0;34m,\u001b[0m \u001b[0myy\u001b[0m\u001b[0;34m,\u001b[0m \u001b[0mcmap\u001b[0m\u001b[0;34m=\u001b[0m\u001b[0mplt\u001b[0m\u001b[0;34m.\u001b[0m\u001b[0mcm\u001b[0m\u001b[0;34m.\u001b[0m\u001b[0mYlGn\u001b[0m\u001b[0;34m,\u001b[0m \u001b[0malpha\u001b[0m\u001b[0;34m=\u001b[0m\u001b[0;36m0.8\u001b[0m\u001b[0;34m)\u001b[0m\u001b[0;34m\u001b[0m\u001b[0;34m\u001b[0m\u001b[0m\n",
            "\u001b[0;32m<ipython-input-2-86bfb8b21d97>\u001b[0m in \u001b[0;36mmake_meshgrid\u001b[0;34m(x, y, h)\u001b[0m\n\u001b[1;32m     80\u001b[0m \u001b[0;32mdef\u001b[0m \u001b[0mmake_meshgrid\u001b[0m\u001b[0;34m(\u001b[0m\u001b[0mx\u001b[0m\u001b[0;34m,\u001b[0m \u001b[0my\u001b[0m\u001b[0;34m,\u001b[0m \u001b[0mh\u001b[0m\u001b[0;34m=\u001b[0m\u001b[0;36m.02\u001b[0m\u001b[0;34m)\u001b[0m\u001b[0;34m:\u001b[0m\u001b[0;34m\u001b[0m\u001b[0;34m\u001b[0m\u001b[0m\n\u001b[1;32m     81\u001b[0m     \u001b[0mx_min\u001b[0m\u001b[0;34m,\u001b[0m \u001b[0mx_max\u001b[0m \u001b[0;34m=\u001b[0m \u001b[0mx\u001b[0m\u001b[0;34m.\u001b[0m\u001b[0mmin\u001b[0m\u001b[0;34m(\u001b[0m\u001b[0;34m)\u001b[0m \u001b[0;34m-\u001b[0m \u001b[0;36m1\u001b[0m\u001b[0;34m,\u001b[0m \u001b[0mx\u001b[0m\u001b[0;34m.\u001b[0m\u001b[0mmax\u001b[0m\u001b[0;34m(\u001b[0m\u001b[0;34m)\u001b[0m \u001b[0;34m+\u001b[0m \u001b[0;36m1\u001b[0m\u001b[0;34m\u001b[0m\u001b[0;34m\u001b[0m\u001b[0m\n\u001b[0;32m---> 82\u001b[0;31m     \u001b[0my_min\u001b[0m\u001b[0;34m,\u001b[0m \u001b[0my_max\u001b[0m \u001b[0;34m=\u001b[0m \u001b[0my\u001b[0m\u001b[0;34m.\u001b[0m\u001b[0mmin\u001b[0m\u001b[0;34m(\u001b[0m\u001b[0;34m)\u001b[0m \u001b[0;34m-\u001b[0m \u001b[0;36m1\u001b[0m\u001b[0;34m,\u001b[0m \u001b[0my\u001b[0m\u001b[0;34m.\u001b[0m\u001b[0mmax\u001b[0m\u001b[0;34m(\u001b[0m\u001b[0;34m)\u001b[0m \u001b[0;34m+\u001b[0m \u001b[0;36m1\u001b[0m\u001b[0;34m\u001b[0m\u001b[0;34m\u001b[0m\u001b[0m\n\u001b[0m\u001b[1;32m     83\u001b[0m     \u001b[0mxx\u001b[0m\u001b[0;34m,\u001b[0m \u001b[0myy\u001b[0m \u001b[0;34m=\u001b[0m \u001b[0mnp\u001b[0m\u001b[0;34m.\u001b[0m\u001b[0mmeshgrid\u001b[0m\u001b[0;34m(\u001b[0m\u001b[0mnp\u001b[0m\u001b[0;34m.\u001b[0m\u001b[0marange\u001b[0m\u001b[0;34m(\u001b[0m\u001b[0mx_min\u001b[0m\u001b[0;34m,\u001b[0m \u001b[0mx_max\u001b[0m\u001b[0;34m,\u001b[0m \u001b[0mh\u001b[0m\u001b[0;34m)\u001b[0m\u001b[0;34m,\u001b[0m \u001b[0mnp\u001b[0m\u001b[0;34m.\u001b[0m\u001b[0marange\u001b[0m\u001b[0;34m(\u001b[0m\u001b[0my_min\u001b[0m\u001b[0;34m,\u001b[0m \u001b[0my_max\u001b[0m\u001b[0;34m,\u001b[0m \u001b[0mh\u001b[0m\u001b[0;34m)\u001b[0m\u001b[0;34m)\u001b[0m\u001b[0;34m\u001b[0m\u001b[0;34m\u001b[0m\u001b[0m\n\u001b[1;32m     84\u001b[0m     \u001b[0;32mreturn\u001b[0m \u001b[0mxx\u001b[0m\u001b[0;34m,\u001b[0m \u001b[0myy\u001b[0m\u001b[0;34m\u001b[0m\u001b[0;34m\u001b[0m\u001b[0m\n",
            "\u001b[0;31mTypeError\u001b[0m: unsupported operand type(s) for -: 'str' and 'int'"
          ]
        },
        {
          "output_type": "display_data",
          "data": {
            "text/plain": [
              "<Figure size 432x288 with 1 Axes>"
            ],
            "image/png": "[encoded data removed]"
          },
          "metadata": {
            "needs_background": "light"
          }
        }
      ]
    },
    {
      "cell_type": "code",
      "source": [],
      "metadata": {
        "id": "f5TcKfQ9PjiW"
      },
      "execution_count": null,
      "outputs": []
    }
  ]
}