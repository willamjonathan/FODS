{
  "nbformat": 4,
  "nbformat_minor": 0,
  "metadata": {
    "colab": {
      "provenance": []
    },
    "kernelspec": {
      "name": "python3",
      "display_name": "Python 3"
    },
    "language_info": {
      "name": "python"
    }
  },
  "cells": [
    {
      "cell_type": "code",
      "execution_count": 4,
      "metadata": {
        "id": "smBXWSN4m5MR"
      },
      "outputs": [],
      "source": [
        "#using my own datasets\n",
        "#import modules\n",
        "import matplotlib.pyplot as plt\n",
        "from sklearn.datasets import make_blobs\n",
        "from sklearn.cluster import KMeans\n",
        "import pandas as pd"
      ]
    },
    {
      "cell_type": "code",
      "source": [
        "#reading the data from the csv file\n",
        "df = pd.read_csv('art_coverage_by_country_clean.csv')\n",
        "df.head()\n",
        "df.info()"
      ],
      "metadata": {
        "colab": {
          "base_uri": "https://localhost:8080/"
        },
        "id": "WIG2BVq0IM1R",
        "outputId": "da8877b1-957e-4ed1-85cc-3d99dae7dcc0"
      },
      "execution_count": 5,
      "outputs": [
        {
          "output_type": "stream",
          "name": "stdout",
          "text": [
            "<class 'pandas.core.frame.DataFrame'>\n",
            "RangeIndex: 170 entries, 0 to 169\n",
            "Data columns (total 11 columns):\n",
            " #   Column                                                          Non-Null Count  Dtype  \n",
            "---  ------                                                          --------------  -----  \n",
            " 0   Country                                                         170 non-null    object \n",
            " 1   Reported number of people receiving ART                         170 non-null    object \n",
            " 2   Estimated number of people living with HIV                      170 non-null    object \n",
            " 3   Estimated ART coverage among people living with HIV (%)         170 non-null    object \n",
            " 4   Estimated number of people living with HIV_median               138 non-null    float64\n",
            " 5   Estimated number of people living with HIV_min                  138 non-null    float64\n",
            " 6   Estimated number of people living with HIV_max                  138 non-null    float64\n",
            " 7   Estimated ART coverage among people living with HIV (%)_median  136 non-null    float64\n",
            " 8   Estimated ART coverage among people living with HIV (%)_min     136 non-null    float64\n",
            " 9   Estimated ART coverage among people living with HIV (%)_max     136 non-null    float64\n",
            " 10  WHO Region                                                      170 non-null    object \n",
            "dtypes: float64(6), object(5)\n",
            "memory usage: 14.7+ KB\n"
          ]
        }
      ]
    },
    {
      "cell_type": "code",
      "source": [
        "#dropping the null files and changing the datatype\n",
        "df.dropna(axis=0, how='any', thresh=None, subset=None, inplace=True)\n",
        "df['Reported number of people receiving ART'] = df['Reported number of people receiving ART'].astype(float)\n",
        "df.info()"
      ],
      "metadata": {
        "colab": {
          "base_uri": "https://localhost:8080/"
        },
        "id": "cRkb2QvJJLOu",
        "outputId": "6ad601f8-00ba-4b57-a240-cf7149262be5"
      },
      "execution_count": 6,
      "outputs": [
        {
          "output_type": "stream",
          "name": "stdout",
          "text": [
            "<class 'pandas.core.frame.DataFrame'>\n",
            "Int64Index: 136 entries, 0 to 169\n",
            "Data columns (total 11 columns):\n",
            " #   Column                                                          Non-Null Count  Dtype  \n",
            "---  ------                                                          --------------  -----  \n",
            " 0   Country                                                         136 non-null    object \n",
            " 1   Reported number of people receiving ART                         136 non-null    float64\n",
            " 2   Estimated number of people living with HIV                      136 non-null    object \n",
            " 3   Estimated ART coverage among people living with HIV (%)         136 non-null    object \n",
            " 4   Estimated number of people living with HIV_median               136 non-null    float64\n",
            " 5   Estimated number of people living with HIV_min                  136 non-null    float64\n",
            " 6   Estimated number of people living with HIV_max                  136 non-null    float64\n",
            " 7   Estimated ART coverage among people living with HIV (%)_median  136 non-null    float64\n",
            " 8   Estimated ART coverage among people living with HIV (%)_min     136 non-null    float64\n",
            " 9   Estimated ART coverage among people living with HIV (%)_max     136 non-null    float64\n",
            " 10  WHO Region                                                      136 non-null    object \n",
            "dtypes: float64(7), object(4)\n",
            "memory usage: 12.8+ KB\n"
          ]
        }
      ]
    },
    {
      "cell_type": "code",
      "source": [
        "#pakai data tengah data 30 sampai 40\n",
        "X = df.iloc[30:41,[1,7]]\n",
        "print(X)\n"
      ],
      "metadata": {
        "colab": {
          "base_uri": "https://localhost:8080/"
        },
        "id": "Uh9KJlibJVhG",
        "outputId": "a53222d3-bc80-413e-bcd7-5757fcb1ce30"
      },
      "execution_count": 9,
      "outputs": [
        {
          "output_type": "stream",
          "name": "stdout",
          "text": [
            "    Reported number of people receiving ART  \\\n",
            "38                                 252000.0   \n",
            "39                                   1200.0   \n",
            "40                                  21900.0   \n",
            "42                                   2600.0   \n",
            "44                                 256000.0   \n",
            "45                                   5500.0   \n",
            "46                                   2700.0   \n",
            "47                                  39000.0   \n",
            "48                                  25100.0   \n",
            "49                                   6700.0   \n",
            "50                                  11900.0   \n",
            "\n",
            "    Estimated ART coverage among people living with HIV (%)_median  \n",
            "38                                               55.0               \n",
            "39                                               75.0               \n",
            "40                                               72.0               \n",
            "42                                               60.0               \n",
            "44                                               57.0               \n",
            "45                                               89.0               \n",
            "46                                               30.0               \n",
            "47                                               56.0               \n",
            "48                                               57.0               \n",
            "49                                               31.0               \n",
            "50                                               47.0               \n"
          ]
        }
      ]
    },
    {
      "cell_type": "code",
      "source": [
        "#plotting\n",
        "plt.scatter(\n",
        "   df.iloc[30:41, 1], df.iloc[30:41, 7],\n",
        "   c='white', marker='o',\n",
        "   edgecolor='black', s=50\n",
        ")\n",
        "plt.show()"
      ],
      "metadata": {
        "colab": {
          "base_uri": "https://localhost:8080/",
          "height": 265
        },
        "id": "fMrgV9j4Jvpj",
        "outputId": "de640a1c-db73-4926-d82f-d23d18b9c155"
      },
      "execution_count": 11,
      "outputs": [
        {
          "output_type": "display_data",
          "data": {
            "text/plain": [
              "<Figure size 432x288 with 1 Axes>"
            ],
            "image/png": "[encoded data removed]"
          },
          "metadata": {
            "needs_background": "light"
          }
        }
      ]
    },
    {
      "cell_type": "code",
      "source": [
        "# train K-Means clustering\n",
        "km = KMeans(\n",
        "    n_clusters=3, init='random',\n",
        "    n_init=10, max_iter=300, \n",
        "    tol=1e-04, random_state=0\n",
        ")\n",
        "y_km = km.fit_predict(X)\n",
        "print(y_km)"
      ],
      "metadata": {
        "colab": {
          "base_uri": "https://localhost:8080/"
        },
        "id": "yaYTb2OsJ43Z",
        "outputId": "c4a79081-084b-4c12-bac3-7e532f337565"
      },
      "execution_count": 12,
      "outputs": [
        {
          "output_type": "stream",
          "name": "stdout",
          "text": [
            "[0 1 2 1 0 1 1 2 2 1 1]\n"
          ]
        }
      ]
    },
    {
      "cell_type": "code",
      "source": [
        "# plot the 3 clusters\n",
        "plt.scatter(\n",
        "    X.iloc[[0,4],0], X.iloc[[0,4],1],\n",
        "    s=50, c='lightgreen',\n",
        "    marker='s', edgecolor='black',\n",
        "    label='C1'\n",
        ")\n",
        "\n",
        "plt.scatter(\n",
        "    X.iloc[[1,3,5,6,9,10],0], X.iloc[[1,3,5,6,9,10],1],\n",
        "    s=50, c='orange',\n",
        "    marker='o', edgecolor='black',\n",
        "    label='C2'\n",
        ")\n",
        "\n",
        "plt.scatter(\n",
        "    X.iloc[[2,7,8],0], X.iloc[[2,7,8],1],\n",
        "    s=50, c='lightblue',\n",
        "    marker='v', edgecolor='black',\n",
        "    label='C3'\n",
        ")"
      ],
      "metadata": {
        "colab": {
          "base_uri": "https://localhost:8080/",
          "height": 283
        },
        "id": "OE9aJR70KV0T",
        "outputId": "797fff53-833a-44b4-ea03-b6a26c120e69"
      },
      "execution_count": 13,
      "outputs": [
        {
          "output_type": "execute_result",
          "data": {
            "text/plain": [
              "<matplotlib.collections.PathCollection at 0x7f6c708f9f10>"
            ]
          },
          "metadata": {},
          "execution_count": 13
        },
        {
          "output_type": "display_data",
          "data": {
            "text/plain": [
              "<Figure size 432x288 with 1 Axes>"
            ],
            "image/png": "[encoded data removed]"
          },
          "metadata": {
            "needs_background": "light"
          }
        }
      ]
    },
    {
      "cell_type": "code",
      "source": [
        "# plot the centroids\n",
        "plt.scatter(\n",
        "    km.cluster_centers_[:, 0], km.cluster_centers_[:, 1],\n",
        "    s=250, marker='*',\n",
        "    c='red', edgecolor='black',\n",
        "    label='centroids'\n",
        ")\n",
        "plt.legend(scatterpoints=1)\n",
        "plt.grid()\n",
        "plt.show()"
      ],
      "metadata": {
        "colab": {
          "base_uri": "https://localhost:8080/",
          "height": 265
        },
        "id": "vvTHwiJ7KzGh",
        "outputId": "a78660ae-7dae-41e7-e7fc-dc9e82f85c16"
      },
      "execution_count": 16,
      "outputs": [
        {
          "output_type": "display_data",
          "data": {
            "text/plain": [
              "<Figure size 432x288 with 1 Axes>"
            ],
            "image/png": "[encoded data removed]"
          },
          "metadata": {
            "needs_background": "light"
          }
        }
      ]
    },
    {
      "cell_type": "code",
      "source": [
        "# calculate distortion for a range of number of cluster\n",
        "distortions = []\n",
        "for i in range(1, 11):\n",
        "    km = KMeans(\n",
        "        n_clusters=i, init='random',\n",
        "        n_init=10, max_iter=300,\n",
        "        tol=1e-04, random_state=0\n",
        "    )\n",
        "    km.fit(X)\n",
        "    distortions.append(km.inertia_)\n",
        "\n",
        "print(distortions)"
      ],
      "metadata": {
        "colab": {
          "base_uri": "https://localhost:8080/"
        },
        "id": "jXSmvkibLJGW",
        "outputId": "53f1eb18-b65c-4449-b93b-340f9cd68205"
      },
      "execution_count": 18,
      "outputs": [
        {
          "output_type": "stream",
          "name": "stdout",
          "text": [
            "[96436939455.27274, 1360245310.4444444, 249469674.66666663, 193981591.3333333, 37676292.5, 15249513.166666668, 13847246.5, 5847244.5, 727132.0, 5450.0]\n"
          ]
        }
      ]
    },
    {
      "cell_type": "code",
      "source": [
        "# plot\n",
        "plt.plot(range(1, 11), distortions, marker='o')\n",
        "plt.xlabel('Number of clusters')\n",
        "plt.ylabel('Distortion')\n",
        "plt.show()"
      ],
      "metadata": {
        "colab": {
          "base_uri": "https://localhost:8080/",
          "height": 290
        },
        "id": "bD3VrIySLRCq",
        "outputId": "3d27b11b-68d1-43ae-e8f1-a400ba38a042"
      },
      "execution_count": 21,
      "outputs": [
        {
          "output_type": "display_data",
          "data": {
            "text/plain": [
              "<Figure size 432x288 with 1 Axes>"
            ],
            "image/png": "[encoded data removed]"
          },
          "metadata": {
            "needs_background": "light"
          }
        }
      ]
    },
    {
      "cell_type": "code",
      "source": [],
      "metadata": {
        "id": "pnFb8uzCLVIk"
      },
      "execution_count": null,
      "outputs": []
    }
  ]
}
