{
  "nbformat": 4,
  "nbformat_minor": 0,
  "metadata": {
    "colab": {
      "provenance": []
    },
    "kernelspec": {
      "name": "python3",
      "display_name": "Python 3"
    },
    "language_info": {
      "name": "python"
    }
  },
  "cells": [
    {
      "cell_type": "code",
      "execution_count": 3,
      "metadata": {
        "id": "smBXWSN4m5MR"
      },
      "outputs": [],
      "source": [
        "#using my own datasets\n",
        "#import modules\n",
        "import matplotlib.pyplot as plt\n",
        "from sklearn.datasets import make_blobs\n",
        "from sklearn.cluster import KMeans\n",
        "import pandas as pd"
      ]
    },
    {
      "cell_type": "code",
      "source": [
        "#reading the data from the csv file\n",
        "df = pd.read_csv('art_coverage_by_country_clean.csv')\n",
        "df.head()\n",
        "df.info()"
      ],
      "metadata": {
        "colab": {
          "base_uri": "https://localhost:8080/"
        },
        "id": "WIG2BVq0IM1R",
        "outputId": "f7cdafa3-1280-4394-9094-25e10aa17a37"
      },
      "execution_count": 4,
      "outputs": [
        {
          "output_type": "stream",
          "name": "stdout",
          "text": [
            "<class 'pandas.core.frame.DataFrame'>\n",
            "RangeIndex: 170 entries, 0 to 169\n",
            "Data columns (total 11 columns):\n",
            " #   Column                                                          Non-Null Count  Dtype  \n",
            "---  ------                                                          --------------  -----  \n",
            " 0   Country                                                         170 non-null    object \n",
            " 1   Reported number of people receiving ART                         170 non-null    object \n",
            " 2   Estimated number of people living with HIV                      170 non-null    object \n",
            " 3   Estimated ART coverage among people living with HIV (%)         170 non-null    object \n",
            " 4   Estimated number of people living with HIV_median               138 non-null    float64\n",
            " 5   Estimated number of people living with HIV_min                  138 non-null    float64\n",
            " 6   Estimated number of people living with HIV_max                  138 non-null    float64\n",
            " 7   Estimated ART coverage among people living with HIV (%)_median  136 non-null    float64\n",
            " 8   Estimated ART coverage among people living with HIV (%)_min     136 non-null    float64\n",
            " 9   Estimated ART coverage among people living with HIV (%)_max     136 non-null    float64\n",
            " 10  WHO Region                                                      170 non-null    object \n",
            "dtypes: float64(6), object(5)\n",
            "memory usage: 14.7+ KB\n"
          ]
        }
      ]
    },
    {
      "cell_type": "code",
      "source": [
        "#dropping the null files and changing the datatype\n",
        "df.dropna(axis=0, how='any', thresh=None, subset=None, inplace=True)\n",
        "df['Reported number of people receiving ART'] = df['Reported number of people receiving ART'].astype(float)\n",
        "df.info()"
      ],
      "metadata": {
        "colab": {
          "base_uri": "https://localhost:8080/"
        },
        "id": "cRkb2QvJJLOu",
        "outputId": "4fccdbe2-e1be-4e22-ebdb-e8ec08aabc73"
      },
      "execution_count": 5,
      "outputs": [
        {
          "output_type": "stream",
          "name": "stdout",
          "text": [
            "<class 'pandas.core.frame.DataFrame'>\n",
            "Int64Index: 136 entries, 0 to 169\n",
            "Data columns (total 11 columns):\n",
            " #   Column                                                          Non-Null Count  Dtype  \n",
            "---  ------                                                          --------------  -----  \n",
            " 0   Country                                                         136 non-null    object \n",
            " 1   Reported number of people receiving ART                         136 non-null    float64\n",
            " 2   Estimated number of people living with HIV                      136 non-null    object \n",
            " 3   Estimated ART coverage among people living with HIV (%)         136 non-null    object \n",
            " 4   Estimated number of people living with HIV_median               136 non-null    float64\n",
            " 5   Estimated number of people living with HIV_min                  136 non-null    float64\n",
            " 6   Estimated number of people living with HIV_max                  136 non-null    float64\n",
            " 7   Estimated ART coverage among people living with HIV (%)_median  136 non-null    float64\n",
            " 8   Estimated ART coverage among people living with HIV (%)_min     136 non-null    float64\n",
            " 9   Estimated ART coverage among people living with HIV (%)_max     136 non-null    float64\n",
            " 10  WHO Region                                                      136 non-null    object \n",
            "dtypes: float64(7), object(4)\n",
            "memory usage: 12.8+ KB\n"
          ]
        }
      ]
    },
    {
      "cell_type": "code",
      "source": [
        "#pakai data tengah data 30 sampai 40\n",
        "X = df.iloc[[30,31,32,33,34,35,36,37,38,39,40,50,51,52,53,54,55,56,57,58,59,60],[1,7]]\n",
        "print(X)\n"
      ],
      "metadata": {
        "colab": {
          "base_uri": "https://localhost:8080/"
        },
        "id": "Uh9KJlibJVhG",
        "outputId": "ee1f5afb-a044-4df1-f275-336995bd9e8b"
      },
      "execution_count": 9,
      "outputs": [
        {
          "output_type": "stream",
          "name": "stdout",
          "text": [
            "    Reported number of people receiving ART  \\\n",
            "38                                 252000.0   \n",
            "39                                   1200.0   \n",
            "40                                  21900.0   \n",
            "42                                   2600.0   \n",
            "44                                 256000.0   \n",
            "45                                   5500.0   \n",
            "46                                   2700.0   \n",
            "47                                  39000.0   \n",
            "48                                  25100.0   \n",
            "49                                   6700.0   \n",
            "50                                  11900.0   \n",
            "61                                   4600.0   \n",
            "62                                  69900.0   \n",
            "63                                 113000.0   \n",
            "65                                  20200.0   \n",
            "66                                  48600.0   \n",
            "67                                  14600.0   \n",
            "68                                   5600.0   \n",
            "69                                  91500.0   \n",
            "70                                  11700.0   \n",
            "71                                   2000.0   \n",
            "72                                    250.0   \n",
            "\n",
            "    Estimated ART coverage among people living with HIV (%)_median  \n",
            "38                                               55.0               \n",
            "39                                               75.0               \n",
            "40                                               72.0               \n",
            "42                                               60.0               \n",
            "44                                               57.0               \n",
            "45                                               89.0               \n",
            "46                                               30.0               \n",
            "47                                               56.0               \n",
            "48                                               57.0               \n",
            "49                                               31.0               \n",
            "50                                               47.0               \n",
            "61                                               49.0               \n",
            "62                                               80.0               \n",
            "63                                               34.0               \n",
            "65                                               43.0               \n",
            "66                                               40.0               \n",
            "67                                               33.0               \n",
            "68                                               68.0               \n",
            "69                                               58.0               \n",
            "70                                               50.0               \n",
            "71                                               56.0               \n",
            "72                                               79.0               \n"
          ]
        }
      ]
    },
    {
      "cell_type": "code",
      "source": [
        "#plotting\n",
        "plt.scatter(\n",
        "   df.iloc[[30,31,32,33,34,35,36,37,38,39,40,50,51,52,53,54,55,56,57,58,59,60], 1], df.iloc[[30,31,32,33,34,35,36,37,38,39,40,50,51,52,53,54,55,56,57,58,59,60], 7],\n",
        "   c='white', marker='o',\n",
        "   edgecolor='black', s=50\n",
        ")\n",
        "plt.show()"
      ],
      "metadata": {
        "colab": {
          "base_uri": "https://localhost:8080/",
          "height": 265
        },
        "id": "fMrgV9j4Jvpj",
        "outputId": "f88fd447-1549-4d89-b60e-b2895cf1115c"
      },
      "execution_count": 10,
      "outputs": [
        {
          "output_type": "display_data",
          "data": {
            "text/plain": [
              "<Figure size 432x288 with 1 Axes>"
            ],
            "image/png": "[encoded data removed]"
          },
          "metadata": {
            "needs_background": "light"
          }
        }
      ]
    },
    {
      "cell_type": "code",
      "source": [
        "# train K-Means clustering\n",
        "km = KMeans(\n",
        "    n_clusters=3, init='random',\n",
        "    n_init=10, max_iter=300, \n",
        "    tol=1e-04, random_state=0\n",
        ")\n",
        "y_km = km.fit_predict(X)\n",
        "print(y_km)"
      ],
      "metadata": {
        "colab": {
          "base_uri": "https://localhost:8080/"
        },
        "id": "yaYTb2OsJ43Z",
        "outputId": "ef770361-2b67-4d34-9bc2-9471274f0a1d"
      },
      "execution_count": 11,
      "outputs": [
        {
          "output_type": "stream",
          "name": "stdout",
          "text": [
            "[0 2 2 2 0 2 2 2 2 2 2 2 1 1 2 2 2 2 1 2 2 2]\n"
          ]
        }
      ]
    },
    {
      "cell_type": "code",
      "source": [
        "# plot the 3 clusters\n",
        "plt.scatter(\n",
        "    X.iloc[[0,4],0], X.iloc[[0,4],1],\n",
        "    s=50, c='lightgreen',\n",
        "    marker='s', edgecolor='black',\n",
        "    label='C1'\n",
        ")\n",
        "\n",
        "plt.scatter(\n",
        "    X.iloc[[1,3,5,6,9,10],0], X.iloc[[1,3,5,6,9,10],1],\n",
        "    s=50, c='orange',\n",
        "    marker='o', edgecolor='black',\n",
        "    label='C2'\n",
        ")\n",
        "\n",
        "plt.scatter(\n",
        "    X.iloc[[2,7,8],0], X.iloc[[2,7,8],1],\n",
        "    s=50, c='lightblue',\n",
        "    marker='v', edgecolor='black',\n",
        "    label='C3'\n",
        ")"
      ],
      "metadata": {
        "colab": {
          "base_uri": "https://localhost:8080/",
          "height": 282
        },
        "id": "OE9aJR70KV0T",
        "outputId": "8b00c781-ed5b-446b-fc0a-a7fbe6d13a17"
      },
      "execution_count": 12,
      "outputs": [
        {
          "output_type": "execute_result",
          "data": {
            "text/plain": [
              "<matplotlib.collections.PathCollection at 0x7f1ce4cf5fd0>"
            ]
          },
          "metadata": {},
          "execution_count": 12
        },
        {
          "output_type": "display_data",
          "data": {
            "text/plain": [
              "<Figure size 432x288 with 1 Axes>"
            ],
            "image/png": "[encoded data removed]"
          },
          "metadata": {
            "needs_background": "light"
          }
        }
      ]
    },
    {
      "cell_type": "code",
      "source": [
        "# plot the centroids\n",
        "plt.scatter(\n",
        "    km.cluster_centers_[:, 0], km.cluster_centers_[:, 1],\n",
        "    s=250, marker='*',\n",
        "    c='red', edgecolor='black',\n",
        "    label='centroids'\n",
        ")\n",
        "plt.legend(scatterpoints=1)\n",
        "plt.grid()\n",
        "plt.show()"
      ],
      "metadata": {
        "colab": {
          "base_uri": "https://localhost:8080/",
          "height": 265
        },
        "id": "vvTHwiJ7KzGh",
        "outputId": "b7bee20e-0c02-439e-fd52-e978529ff540"
      },
      "execution_count": 13,
      "outputs": [
        {
          "output_type": "display_data",
          "data": {
            "text/plain": [
              "<Figure size 432x288 with 1 Axes>"
            ],
            "image/png": "[encoded data removed]"
          },
          "metadata": {
            "needs_background": "light"
          }
        }
      ]
    },
    {
      "cell_type": "code",
      "source": [
        "#combination plot (visual purpose)\n",
        "# plot the 3 clusters\n",
        "plt.scatter(\n",
        "    X.iloc[[0,4],0], X.iloc[[0,4],1],\n",
        "    s=50, c='lightgreen',\n",
        "    marker='s', edgecolor='black',\n",
        "    label='C1'\n",
        ")\n",
        "\n",
        "plt.scatter(\n",
        "    X.iloc[[1,3,5,6,9,10],0], X.iloc[[1,3,5,6,9,10],1],\n",
        "    s=50, c='orange',\n",
        "    marker='o', edgecolor='black',\n",
        "    label='C2'\n",
        ")\n",
        "\n",
        "plt.scatter(\n",
        "    X.iloc[[2,7,8],0], X.iloc[[2,7,8],1],\n",
        "    s=50, c='lightblue',\n",
        "    marker='v', edgecolor='black',\n",
        "    label='C3'\n",
        ")\n",
        "# plot the centroids\n",
        "plt.scatter(\n",
        "    km.cluster_centers_[:, 0], km.cluster_centers_[:, 1],\n",
        "    s=250, marker='*',\n",
        "    c='red', edgecolor='black',\n",
        "    label='centroids'\n",
        ")\n",
        "plt.legend(scatterpoints=1)\n",
        "plt.grid()\n",
        "plt.show()"
      ],
      "metadata": {
        "colab": {
          "base_uri": "https://localhost:8080/",
          "height": 265
        },
        "id": "p-wyjonKORPO",
        "outputId": "2ab0003e-9208-45f2-88d0-fb195102c48b"
      },
      "execution_count": 14,
      "outputs": [
        {
          "output_type": "display_data",
          "data": {
            "text/plain": [
              "<Figure size 432x288 with 1 Axes>"
            ],
            "image/png": "[encoded data removed]"
          },
          "metadata": {
            "needs_background": "light"
          }
        }
      ]
    },
    {
      "cell_type": "code",
      "source": [
        "# calculate distortion for a range of number of cluster\n",
        "distortions = []\n",
        "for i in range(1, 11):\n",
        "    km = KMeans(\n",
        "        n_clusters=i, init='random',\n",
        "        n_init=10, max_iter=300,\n",
        "        tol=1e-04, random_state=0\n",
        "    )\n",
        "    km.fit(X)\n",
        "    distortions.append(km.inertia_)\n",
        "\n",
        "print(distortions)"
      ],
      "metadata": {
        "colab": {
          "base_uri": "https://localhost:8080/"
        },
        "id": "jXSmvkibLJGW",
        "outputId": "c7d44e2d-f2b1-4a3b-8263-39f6903882ca"
      },
      "execution_count": 15,
      "outputs": [
        {
          "output_type": "stream",
          "name": "stdout",
          "text": [
            "[115054808261.68182, 19647153249.550003, 4020821350.862745, 1782911805.116666, 1180084324.8888886, 1147145434.7499998, 1006978474.083333, 309296036.7499999, 305792990.0833332, 301256258.6666665]\n"
          ]
        }
      ]
    },
    {
      "cell_type": "code",
      "source": [
        "# plot\n",
        "plt.plot(range(1, 11), distortions, marker='o')\n",
        "plt.xlabel('Number of clusters')\n",
        "plt.ylabel('Distortion')\n",
        "plt.show()"
      ],
      "metadata": {
        "colab": {
          "base_uri": "https://localhost:8080/",
          "height": 290
        },
        "id": "bD3VrIySLRCq",
        "outputId": "bcf8d25b-b9bd-4acf-8f7c-cc8f30621d49"
      },
      "execution_count": 16,
      "outputs": [
        {
          "output_type": "display_data",
          "data": {
            "text/plain": [
              "<Figure size 432x288 with 1 Axes>"
            ],
            "image/png": "[encoded data removed]"
          },
          "metadata": {
            "needs_background": "light"
          }
        }
      ]
    },
    {
      "cell_type": "code",
      "source": [],
      "metadata": {
        "id": "pnFb8uzCLVIk"
      },
      "execution_count": null,
      "outputs": []
    }
  ]
}